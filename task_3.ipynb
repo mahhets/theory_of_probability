{
 "cells": [
  {
   "cell_type": "code",
   "execution_count": 5,
   "metadata": {},
   "outputs": [],
   "source": [
    "from math import factorial as f\n",
    "import numpy as np\n",
    "\n",
    "def comb(k,n):\n",
    "    return int(f(n)/(f(k)*f(n-k)))"
   ]
  },
  {
   "cell_type": "markdown",
   "metadata": {},
   "source": [
    "## №1\n",
    "Даны значения зарплат из выборки выпускников: 100, 80, 75, 77, 89, 33, 45, 25, 65, 17, 30, 24, 57, 55, 70, 75, 65, 84, 90, 150. Посчитать (желательно без использования статистических методов наподобие std, var, mean) среднее арифметическое, среднее квадратичное отклонение, смещенную и несмещенную оценки дисперсий для данной выборки."
   ]
  },
  {
   "cell_type": "code",
   "execution_count": 2,
   "metadata": {},
   "outputs": [
    {
     "name": "stdout",
     "output_type": "stream",
     "text": [
      "Среднее арифметическое: 65.3\n",
      "Cреднее квадратичное отклонение: 30.823854398825592\n",
      "Смещенная оценка дисперсии: 950.1099999999998\n",
      "Несмещенная оценка дисперсии: 1000.1157894736843\n"
     ]
    }
   ],
   "source": [
    "salaries = [100, 80, 75, 77, 89, 33, 45, 25, 65, 17, 30, 24, 57, 55, 70, 75, 65, 84, 90, 150]\n",
    "\n",
    "avg_mean = sum(salaries)/len(salaries)\n",
    "\n",
    "std_deviation = 0\n",
    "for item in salaries:\n",
    "    std_deviation += (item - avg_mean) ** 2/len(salaries)\n",
    "std_deviation = np.sqrt(std_deviation)\n",
    "\n",
    "shifted_var = 0\n",
    "for item in salaries:\n",
    "    shifted_var += (item - avg_mean) ** 2/(len(salaries) - 1)\n",
    "\n",
    "print('Среднее арифметическое: {}'.format(avg_mean))\n",
    "print('Cреднее квадратичное отклонение: {}'.format(std_deviation))\n",
    "print('Смещенная оценка дисперсии: {}'.format(std_deviation**2))\n",
    "print('Несмещенная оценка дисперсии: {}'.format(shifted_var))"
   ]
  },
  {
   "cell_type": "markdown",
   "metadata": {},
   "source": [
    "## №2\n",
    "В первом ящике находится 8 мячей, из которых 5 - белые. Во втором ящике - 12 мячей, из которых 5 белых. Из первого ящика вытаскивают случайным образом два мяча, из второго - 4. Какова вероятность того, что 3 мяча белые?\n",
    "\n",
    "\n",
    "Имеем 3 варианта события: \n",
    "* **2 из первой, 1 из второй**\n",
    "* **1 из первой, 2 из второй**\n",
    "* **0 из первой, 3 из второй**"
   ]
  },
  {
   "cell_type": "code",
   "execution_count": 19,
   "metadata": {},
   "outputs": [
    {
     "name": "stdout",
     "output_type": "stream",
     "text": [
      "36.87\n"
     ]
    }
   ],
   "source": [
    "A = comb(2,5)*comb(0,3)/comb(2,8) * comb(1,5)*comb(3,7)/comb(4,12) +\\\n",
    "comb(1,5)*comb(1,3)/comb(2,8) * comb(2,5)*comb(2,7)/comb(4,12) +\\\n",
    "comb(0,5)*comb(2,3)/comb(2,8) * comb(3,5)*comb(1,7)/comb(4,12)\n",
    "print(round(A*100,2))"
   ]
  },
  {
   "cell_type": "markdown",
   "metadata": {},
   "source": [
    "## №3\n",
    "На соревновании по биатлону один из трех спортсменов стреляет и попадает в мишень. Вероятность попадания для первого спортсмена равна 0.9, для второго — 0.8, для третьего — 0.6. Найти вероятность того, что выстрел произведен: a). первым спортсменом б). вторым спортсменом в). третьим спортсменом."
   ]
  },
  {
   "cell_type": "markdown",
   "metadata": {},
   "source": [
    "* **Вероятноть попадания первым = 1/3 * 9/10 = 9/30**\n",
    "* **Вторым = 8/30**\n",
    "* **Третьим = 6/30**\n",
    "\n",
    "* **Общая вероятность попадания = 23/30**"
   ]
  },
  {
   "cell_type": "code",
   "execution_count": 22,
   "metadata": {},
   "outputs": [
    {
     "data": {
      "text/plain": [
       "39.13"
      ]
     },
     "execution_count": 22,
     "metadata": {},
     "output_type": "execute_result"
    }
   ],
   "source": [
    "# Выстрел произведен первым\n",
    "round((9/30)/(23/30)*100, 2)"
   ]
  },
  {
   "cell_type": "code",
   "execution_count": 23,
   "metadata": {},
   "outputs": [
    {
     "data": {
      "text/plain": [
       "34.78"
      ]
     },
     "execution_count": 23,
     "metadata": {},
     "output_type": "execute_result"
    }
   ],
   "source": [
    "# Выстрел произведен вторым\n",
    "round((8/30)/(23/30)*100, 2)"
   ]
  },
  {
   "cell_type": "code",
   "execution_count": 24,
   "metadata": {},
   "outputs": [
    {
     "data": {
      "text/plain": [
       "26.09"
      ]
     },
     "execution_count": 24,
     "metadata": {},
     "output_type": "execute_result"
    }
   ],
   "source": [
    "# Выстрел произведен третьим\n",
    "round((6/30)/(23/30)*100, 2)"
   ]
  },
  {
   "cell_type": "markdown",
   "metadata": {},
   "source": [
    "## №4\n",
    "В университет на факультеты A и B поступило равное количество студентов, а на факультет C студентов поступило столько же, сколько на A и B вместе. Вероятность того, что студент факультета A сдаст первую сессию, равна 0.8. Для студента факультета B эта вероятность равна 0.7, а для студента факультета C - 0.9. Студент сдал первую сессию. Какова вероятность, что он учится: a). на факультете A б). на факультете B в). на факультете C?\n",
    "\n",
    "* **Вероятность сдачи на факультете А = 1/4 * 0.8 = 1/5**\n",
    "* **На факультете В = 1/4 * 0.7 = 7/40**\n",
    "* **На факультете С = 2/4 * 0.9 = 9/20**"
   ]
  },
  {
   "cell_type": "code",
   "execution_count": 25,
   "metadata": {},
   "outputs": [
    {
     "data": {
      "text/plain": [
       "0.825"
      ]
     },
     "execution_count": 25,
     "metadata": {},
     "output_type": "execute_result"
    }
   ],
   "source": [
    "# Сдана первая сессия\n",
    "1/5 + 7/40 + 9/20"
   ]
  },
  {
   "cell_type": "code",
   "execution_count": 29,
   "metadata": {},
   "outputs": [
    {
     "data": {
      "text/plain": [
       "24.2"
      ]
     },
     "execution_count": 29,
     "metadata": {},
     "output_type": "execute_result"
    }
   ],
   "source": [
    "# Вероятность что учится на факультете А\n",
    "round((1/5)/0.825 *100, 1)"
   ]
  },
  {
   "cell_type": "code",
   "execution_count": 30,
   "metadata": {},
   "outputs": [
    {
     "data": {
      "text/plain": [
       "21.2"
      ]
     },
     "execution_count": 30,
     "metadata": {},
     "output_type": "execute_result"
    }
   ],
   "source": [
    "# Вероятность что учится на факультете B\n",
    "round((7/40)/0.825 *100, 1)"
   ]
  },
  {
   "cell_type": "code",
   "execution_count": 31,
   "metadata": {},
   "outputs": [
    {
     "data": {
      "text/plain": [
       "54.5"
      ]
     },
     "execution_count": 31,
     "metadata": {},
     "output_type": "execute_result"
    }
   ],
   "source": [
    "# Вероятность что учится на факультете C\n",
    "round((9/20)/0.825 *100, 1)"
   ]
  },
  {
   "cell_type": "markdown",
   "metadata": {},
   "source": [
    "## №5\n",
    "Устройство состоит из трех деталей. Для первой детали вероятность выйти из строя в первый месяц равна 0.1, для второй - 0.2, для третьей - 0.25. Какова вероятность того, что в первый месяц выйдут из строя: а). все детали б). только две детали в). хотя бы одна деталь г). от одной до двух деталей?\n",
    "\n",
    "* **Все детали = 0.1 * 0.2 * 0.25 = 0.005**\n",
    "* **Только две детали = 0.1 * 0.2 * 0.75 + 0.1 * 0.8 * 0.25 + 0.9 * 0.2 * 0.25 = 0.08**\n",
    "* **Хотя бы одна деталь = 1 - 0.9 * 0.8 * 0.75 = 0.46**\n",
    "* **От одной до двух деталей = 0.08 + 0.1 * 0.8 * 0.75 + 0.9 * 0.2 * 0.75 + 0.9 * 0.8 * 0.25 = 0.455 "
   ]
  }
 ],
 "metadata": {
  "kernelspec": {
   "display_name": "Python 3",
   "language": "python",
   "name": "python3"
  },
  "language_info": {
   "codemirror_mode": {
    "name": "ipython",
    "version": 3
   },
   "file_extension": ".py",
   "mimetype": "text/x-python",
   "name": "python",
   "nbconvert_exporter": "python",
   "pygments_lexer": "ipython3",
   "version": "3.7.6"
  }
 },
 "nbformat": 4,
 "nbformat_minor": 4
}
