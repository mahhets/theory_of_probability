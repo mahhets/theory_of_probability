{
 "cells": [
  {
   "cell_type": "code",
   "execution_count": 1,
   "metadata": {},
   "outputs": [],
   "source": [
    "import numpy as np"
   ]
  },
  {
   "cell_type": "markdown",
   "metadata": {},
   "source": [
    "## №1\n",
    "Известно, что генеральная совокупность распределена нормально со средним квадратическим отклонением, равным 16. Найти доверительный интервал для оценки математического ожидания a с надежностью 0.95, если выборочная средняя M = 80, а объем выборки n = 256."
   ]
  },
  {
   "cell_type": "code",
   "execution_count": 2,
   "metadata": {},
   "outputs": [],
   "source": [
    "S = 16\n",
    "alph = 0.05\n",
    "M = 80\n",
    "n = 256"
   ]
  },
  {
   "cell_type": "code",
   "execution_count": 3,
   "metadata": {},
   "outputs": [
    {
     "data": {
      "text/plain": [
       "[78.355, 81.645]"
      ]
     },
     "execution_count": 3,
     "metadata": {},
     "output_type": "execute_result"
    }
   ],
   "source": [
    "T1 = M - 1.645*(S/np.sqrt(256))\n",
    "T2 = M + 1.645*(S/np.sqrt(256))\n",
    "answer = [T1,T2]\n",
    "answer"
   ]
  },
  {
   "cell_type": "markdown",
   "metadata": {},
   "source": [
    "## №2\n",
    "В результате 10 независимых измерений некоторой величины X, выполненных с одинаковой точностью, получены опытные данные: 6.9, 6.1, 6.2, 6.8, 7.5, 6.3, 6.4, 6.9, 6.7, 6.1 Предполагая, что результаты измерений подчинены нормальному закону распределения вероятностей, оценить истинное значение величины X при помощи доверительного интервала, покрывающего это значение с доверительной вероятностью 0,95. 3,4 задачи решать через тестирование гипотезы"
   ]
  },
  {
   "cell_type": "code",
   "execution_count": 4,
   "metadata": {},
   "outputs": [
    {
     "data": {
      "text/plain": [
       "[6.270104892191207, 6.9098951078087945]"
      ]
     },
     "execution_count": 4,
     "metadata": {},
     "output_type": "execute_result"
    }
   ],
   "source": [
    "X = [6.9, 6.1, 6.2, 6.8, 7.5, 6.3, 6.4, 6.9, 6.7, 6.1]\n",
    "n = len(X)\n",
    "M = np.mean(X)\n",
    "alph = 0.05\n",
    "D = round(np.var(X, ddof = 1),2)\n",
    "\n",
    "answer = [M - 2.262*(np.sqrt(D)/np.sqrt(n)),\n",
    "          M + 2.262*(np.sqrt(D)/np.sqrt(n))]\n",
    "answer"
   ]
  },
  {
   "cell_type": "markdown",
   "metadata": {},
   "source": [
    "## №3\n",
    "Утверждается, что шарики для подшипников, изготовленные автоматическим станком, имеют средний диаметр 17 мм.\n",
    "Используя односторонний критерий с α=0,05, проверить эту гипотезу, если в выборке из n=100 шариков средний диаметр\n",
    "оказался равным 17.5 мм, а дисперсия известна и равна 4 кв.мм."
   ]
  },
  {
   "cell_type": "code",
   "execution_count": 5,
   "metadata": {},
   "outputs": [],
   "source": [
    "M1 = 17\n",
    "M2 = 17.5\n",
    "D = 4\n",
    "S = np.sqrt(D)\n",
    "n = 100\n",
    "alph = 0.05\n",
    "Z0 = 1.645"
   ]
  },
  {
   "cell_type": "markdown",
   "metadata": {},
   "source": [
    "#### Формулируем гипотезы:\n",
    "* **H0 : M<sub>и</sub>= M1**\n",
    "* **H1 : M<sub>и</sub> > M1**\n",
    "\n",
    "Проверять гипотезу будем по Z-критерию"
   ]
  },
  {
   "cell_type": "code",
   "execution_count": 6,
   "metadata": {},
   "outputs": [
    {
     "data": {
      "text/plain": [
       "2.5"
      ]
     },
     "execution_count": 6,
     "metadata": {},
     "output_type": "execute_result"
    }
   ],
   "source": [
    "Z1 = (M2 - M1)/(S/np.sqrt(n))\n",
    "Z1"
   ]
  },
  {
   "cell_type": "markdown",
   "metadata": {},
   "source": [
    "#### Z1 > Z0\n",
    "Но если смотреть на 2,5 сигмы по графику, то есть вероятность попадания в сектор ошибки первого рода\n",
    "\n",
    "**По Z-критерию нулевая гипотеза отвергается**\n",
    "\n",
    "Доверительные интервалы:"
   ]
  },
  {
   "cell_type": "code",
   "execution_count": 7,
   "metadata": {},
   "outputs": [
    {
     "data": {
      "text/plain": [
       "[17.171, 17.829]"
      ]
     },
     "execution_count": 7,
     "metadata": {},
     "output_type": "execute_result"
    }
   ],
   "source": [
    "interval = [M2 - 1.645*(np.sqrt(D)/np.sqrt(n)),\n",
    "          M2 + 1.645*(np.sqrt(D)/np.sqrt(n))]\n",
    "interval"
   ]
  },
  {
   "cell_type": "markdown",
   "metadata": {},
   "source": [
    "## №4\n",
    "Продавец утверждает, что средний вес пачки печенья составляет 200 г.\n",
    "Из партии извлечена выборка из 10 пачек. Вес каждой пачки составляет:\n",
    "202, 203, 199, 197, 195, 201, 200, 204, 194, 190.\n",
    "Известно, что их веса распределены нормально.\n",
    "Верно ли утверждение продавца, если учитывать, что доверительная вероятность равна 99%?"
   ]
  },
  {
   "cell_type": "code",
   "execution_count": 8,
   "metadata": {},
   "outputs": [],
   "source": [
    "X = [202, 203, 199, 197, 195, 201, 200, 204, 194, 190]\n",
    "M_1 = 200\n",
    "M_2 = np.mean(X)\n",
    "n = 10 \n",
    "alph = 0.01"
   ]
  },
  {
   "cell_type": "markdown",
   "metadata": {},
   "source": [
    "#### Формулируем гипотезы:\n",
    "* **H0 : M<sub>и</sub> = M1**\n",
    "* **H1 : M<sub>и</sub> &ne; M1**\n",
    "\n",
    "Проверять гипотезу будем по t-критерию Стьюдента"
   ]
  },
  {
   "cell_type": "code",
   "execution_count": 9,
   "metadata": {},
   "outputs": [],
   "source": [
    "from scipy.stats import t, ttest_1samp"
   ]
  },
  {
   "cell_type": "markdown",
   "metadata": {},
   "source": [
    "Пробую сделать при помощи scipy \n",
    "\n",
    "Метод ppf иногда выдает ошиюку, что не поддерживает float\n",
    "\n",
    "Правильно ли я решил задачу? Немного путает меня метод ppf и я не могу найти его хорошего описания"
   ]
  },
  {
   "cell_type": "code",
   "execution_count": 10,
   "metadata": {},
   "outputs": [
    {
     "name": "stdout",
     "output_type": "stream",
     "text": [
      "Имеем интервал [-3.2498355440153697, 3.2498355440153697]\n",
      "Значение t-критерия -1.0651074037450896\n"
     ]
    }
   ],
   "source": [
    "T = t.ppf((1 + 0.99)/2, n - 1)\n",
    "print(f'Имеем интервал {[-T,T]}')\n",
    "t,p = ttest_1samp(X,200)\n",
    "print(f'Значение t-критерия {t}')"
   ]
  },
  {
   "cell_type": "markdown",
   "metadata": {},
   "source": [
    "#### Значение t-критерия входит в интервал [-3.2498355440153697, 3.2498355440153697] > H0 принимается"
   ]
  },
  {
   "cell_type": "code",
   "execution_count": null,
   "metadata": {},
   "outputs": [],
   "source": []
  }
 ],
 "metadata": {
  "kernelspec": {
   "display_name": "Python 3",
   "language": "python",
   "name": "python3"
  },
  "language_info": {
   "codemirror_mode": {
    "name": "ipython",
    "version": 3
   },
   "file_extension": ".py",
   "mimetype": "text/x-python",
   "name": "python",
   "nbconvert_exporter": "python",
   "pygments_lexer": "ipython3",
   "version": "3.8.4"
  }
 },
 "nbformat": 4,
 "nbformat_minor": 4
}
