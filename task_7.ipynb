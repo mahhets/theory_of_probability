{
 "cells": [
  {
   "cell_type": "code",
   "execution_count": 1,
   "metadata": {},
   "outputs": [],
   "source": [
    "import numpy as np"
   ]
  },
  {
   "cell_type": "markdown",
   "metadata": {},
   "source": [
    "## №1\n",
    "Даны значения величины заработной платы заемщиков банка (zp) и значения их поведенческого кредитного скоринга (ks): \n",
    "\n",
    "zp = [35, 45, 190, 200, 40, 70, 54, 150, 120, 110], \n",
    "\n",
    "ks = [401, 574, 874, 919, 459, 739, 653, 902, 746, 832]. \n",
    "\n",
    "Используя математические операции, посчитать коэффициенты линейной регрессии, приняв за X заработную плату (то есть, zp - признак), а за y - значения скорингового балла (то есть, ks - целевая переменная). Произвести расчет как с использованием intercept, так и без."
   ]
  },
  {
   "cell_type": "code",
   "execution_count": 2,
   "metadata": {},
   "outputs": [],
   "source": [
    "zp = np.array([35, 45, 190, 200, 40, 70, 54, 150, 120, 110])\n",
    "ks = np.array([401, 574, 874, 919, 459, 739, 653, 902, 746, 832])"
   ]
  },
  {
   "cell_type": "code",
   "execution_count": 3,
   "metadata": {},
   "outputs": [],
   "source": [
    "X = np.reshape(zp,(10,1))\n",
    "Y = np.reshape(ks,(10,1))"
   ]
  },
  {
   "cell_type": "markdown",
   "metadata": {},
   "source": [
    "**a) Без интерсепта**"
   ]
  },
  {
   "cell_type": "code",
   "execution_count": 4,
   "metadata": {},
   "outputs": [
    {
     "data": {
      "text/plain": [
       "array([[5.88982042]])"
      ]
     },
     "execution_count": 4,
     "metadata": {},
     "output_type": "execute_result"
    }
   ],
   "source": [
    "B1 = np.dot(np.linalg.inv(np.dot(X.T,X)),np.dot(X.T,Y))\n",
    "B1"
   ]
  },
  {
   "cell_type": "code",
   "execution_count": 5,
   "metadata": {},
   "outputs": [
    {
     "data": {
      "text/plain": [
       "array([[ 206.1437147 ,  265.04191891, 1119.06587983, 1177.96408403,\n",
       "         235.59281681,  412.28742941,  318.05030269,  883.47306302,\n",
       "         706.77845042,  647.88024621]])"
      ]
     },
     "execution_count": 5,
     "metadata": {},
     "output_type": "execute_result"
    }
   ],
   "source": [
    "ks_try = B1*zp\n",
    "ks_try"
   ]
  },
  {
   "cell_type": "markdown",
   "metadata": {},
   "source": [
    "**б) С интерсептом**"
   ]
  },
  {
   "cell_type": "code",
   "execution_count": 6,
   "metadata": {},
   "outputs": [
    {
     "data": {
      "text/plain": [
       "array([[  1.,  35.],\n",
       "       [  1.,  45.],\n",
       "       [  1., 190.],\n",
       "       [  1., 200.],\n",
       "       [  1.,  40.],\n",
       "       [  1.,  70.],\n",
       "       [  1.,  54.],\n",
       "       [  1., 150.],\n",
       "       [  1., 120.],\n",
       "       [  1., 110.]])"
      ]
     },
     "execution_count": 6,
     "metadata": {},
     "output_type": "execute_result"
    }
   ],
   "source": [
    "X = np.hstack([np.ones((10,1)),X])\n",
    "X"
   ]
  },
  {
   "cell_type": "code",
   "execution_count": 7,
   "metadata": {},
   "outputs": [
    {
     "data": {
      "text/plain": [
       "array([[444.17735732],\n",
       "       [  2.62053888]])"
      ]
     },
     "execution_count": 7,
     "metadata": {},
     "output_type": "execute_result"
    }
   ],
   "source": [
    "B = np.dot(np.linalg.inv(np.dot(X.T,X)),np.dot(X.T,Y))\n",
    "B"
   ]
  },
  {
   "cell_type": "code",
   "execution_count": 8,
   "metadata": {},
   "outputs": [
    {
     "data": {
      "text/plain": [
       "array([535.89621821, 562.10160703, 942.07974498, 968.2851338 ,\n",
       "       548.99891262, 627.61507909, 585.68645697, 837.25818968,\n",
       "       758.64202321, 732.43663439])"
      ]
     },
     "execution_count": 8,
     "metadata": {},
     "output_type": "execute_result"
    }
   ],
   "source": [
    "ks_try_2 = B[0][0] + B[1][0]*zp\n",
    "ks_try_2"
   ]
  },
  {
   "cell_type": "markdown",
   "metadata": {},
   "source": [
    "#### Наглядно видно как интерсепт улучшает результат"
   ]
  },
  {
   "cell_type": "markdown",
   "metadata": {},
   "source": [
    "## №2\n",
    "Посчитать коэффициент линейной регрессии при заработной плате (zp), используя градиентный спуск (без intercept)\n",
    "\n",
    "Уравнение вида *y = Bx*"
   ]
  },
  {
   "cell_type": "code",
   "execution_count": 9,
   "metadata": {},
   "outputs": [],
   "source": [
    "zp = np.array([35, 45, 190, 200, 40, 70, 54, 150, 120, 110])\n",
    "ks = np.array([401, 574, 874, 919, 459, 739, 653, 902, 746, 832])\n",
    "X = zp\n",
    "Y = ks\n",
    "n = len(X)"
   ]
  },
  {
   "cell_type": "code",
   "execution_count": 10,
   "metadata": {},
   "outputs": [],
   "source": [
    "def mse_1(B,Y=Y,X=X,n=n):\n",
    "    return np.sum((B*X - Y)**2)/n"
   ]
  },
  {
   "cell_type": "code",
   "execution_count": 11,
   "metadata": {},
   "outputs": [],
   "source": [
    "# Я так понимаю, что а необходимы мгновенные значения функции в конкретной точке.\n",
    "# Именно поэтому мы и берем производную по B в MSE\n",
    "# MSE = (1/n)*np.sum((B*X - Y)**2)\n",
    "# MSE' = (2/n)*np.sum((B*X - Y)*X)"
   ]
  },
  {
   "cell_type": "code",
   "execution_count": 12,
   "metadata": {},
   "outputs": [],
   "source": [
    "# Зададим скорость обучения,начальную точку для итерации и кол-во шагов итерации\n",
    "alpha = 1e-6\n",
    "B = 0.1\n",
    "irange = 1000"
   ]
  },
  {
   "cell_type": "code",
   "execution_count": 13,
   "metadata": {},
   "outputs": [
    {
     "name": "stdout",
     "output_type": "stream",
     "text": [
      "На итерации 0 B = 0.25952808 со средней квадратической ошибкой 493237.7212546963\n",
      "На итерации 100 B = 5.54537842245223 со средней квадратической ошибкой 58151.31823171113\n",
      "На итерации 200 B = 5.868748638669329 со средней квадратической ошибкой 56522.97550129376\n",
      "На итерации 300 B = 5.888531320728348 со средней квадратической ошибкой 56516.88130936019\n",
      "На итерации 400 B = 5.8897415574471985 со средней квадратической ошибкой 56516.85850140053\n",
      "На итерации 500 B = 5.889815595583751 со средней квадратической ошибкой 56516.858416040064\n",
      "На итерации 600 B = 5.889820124983314 со средней квадратической ошибкой 56516.85841572062\n",
      "На итерации 700 B = 5.889820402076462 со средней квадратической ошибкой 56516.85841571941\n",
      "На итерации 800 B = 5.88982041902807 со средней квадратической ошибкой 56516.8584157194\n",
      "На итерации 900 B = 5.889820420065112 со средней квадратической ошибкой 56516.85841571941\n",
      "На итерации 1000 B = 5.8898204201285544 со средней квадратической ошибкой 56516.85841571941\n"
     ]
    }
   ],
   "source": [
    "for i in range(irange + 1):\n",
    "    B -=alpha*(2/n)*np.sum((B*X - Y)*X)\n",
    "    if i%100 == 0:\n",
    "        print(f'На итерации {i} B = {B} со средней квадратической ошибкой {mse_1(B)}')"
   ]
  },
  {
   "cell_type": "code",
   "execution_count": 14,
   "metadata": {},
   "outputs": [
    {
     "data": {
      "text/plain": [
       "5.8898204201285544"
      ]
     },
     "execution_count": 14,
     "metadata": {},
     "output_type": "execute_result"
    }
   ],
   "source": [
    "B"
   ]
  },
  {
   "cell_type": "markdown",
   "metadata": {},
   "source": [
    "## №3\n",
    "В каких случаях для вычисления доверительных интервалов и проверки статистических гипотез используется таблица значений функции Лапласа, а в каких - таблица критических точек распределения Стьюдента? "
   ]
  },
  {
   "cell_type": "markdown",
   "metadata": {},
   "source": [
    "* **Лаплас** - когда известны М(Х) или D(X) или СКО\n",
    "* **Стьюдент** - когда нет этих данных"
   ]
  },
  {
   "cell_type": "markdown",
   "metadata": {},
   "source": [
    "## №4\n",
    "Произвести вычисления как в пункте 2, но с вычислением intercept. Учесть, что изменение коэффициентов должно производиться на каждом шаге одновременно (то есть изменение одного коэффициента не должно влиять на изменение другого во время одной итерации)."
   ]
  },
  {
   "cell_type": "code",
   "execution_count": 15,
   "metadata": {},
   "outputs": [],
   "source": [
    "X = np.array([35, 45, 190, 200, 40, 70, 54, 150, 120, 110])\n",
    "Y = np.array([401, 574, 874, 919, 459, 739, 653, 902, 746, 832])\n",
    "n = len(X)"
   ]
  },
  {
   "cell_type": "code",
   "execution_count": 16,
   "metadata": {},
   "outputs": [],
   "source": [
    "def mse_2(B0,B1,Y=Y,X=X,n=n):\n",
    "    return np.sum((B0 + B1*X - Y)**2)/n"
   ]
  },
  {
   "cell_type": "code",
   "execution_count": 17,
   "metadata": {},
   "outputs": [],
   "source": [
    "alpha = 5e-5\n",
    "B0, B1 = 0.1, 0.1\n",
    "irange = 2000000"
   ]
  },
  {
   "cell_type": "markdown",
   "metadata": {},
   "source": [
    "Нужно взять прозводную MSE по B0 и подставить, проблема только в подборе коэфи всеже довольно большой средней квадратической\n",
    "\n",
    "Просьба объяснить на вебинаре)"
   ]
  },
  {
   "cell_type": "code",
   "execution_count": 18,
   "metadata": {},
   "outputs": [
    {
     "name": "stdout",
     "output_type": "stream",
     "text": [
      "На итерации 0 B0 = 0.169966, B1 = 8.074680544760001 с MSE = 122318.06397097581\n",
      "На итерации 500000 B0 = 444.17598024224475, B1 = 2.6205490180788695 с MSE = 6470.414201657696\n",
      "На итерации 1000000 B0 = 444.17735732000267, B1 = 2.620538882434834 с MSE = 6470.414201176662\n",
      "На итерации 1500000 B0 = 444.17735732323916, B1 = 2.620538882411012 с MSE = 6470.414201176657\n",
      "На итерации 2000000 B0 = 444.17735732323916, B1 = 2.620538882411012 с MSE = 6470.414201176657\n"
     ]
    }
   ],
   "source": [
    "for i in range(irange + 1):\n",
    "    B0 -=alpha*(2/n)*np.sum(B0 + B1*X - Y)\n",
    "    B1 -=alpha*(2/n)*np.sum((B0 + B1*X - Y)*X)\n",
    "    if i%500000 == 0:\n",
    "        print(f'На итерации {i} B0 = {B0}, B1 = {B1} с MSE = {mse_2(B0,B1)}')"
   ]
  },
  {
   "cell_type": "code",
   "execution_count": 19,
   "metadata": {},
   "outputs": [
    {
     "data": {
      "text/plain": [
       "(444.17735732323916, 2.620538882411012)"
      ]
     },
     "execution_count": 19,
     "metadata": {},
     "output_type": "execute_result"
    }
   ],
   "source": [
    "B0, B1"
   ]
  },
  {
   "cell_type": "code",
   "execution_count": null,
   "metadata": {},
   "outputs": [],
   "source": []
  }
 ],
 "metadata": {
  "kernelspec": {
   "display_name": "Python 3",
   "language": "python",
   "name": "python3"
  },
  "language_info": {
   "codemirror_mode": {
    "name": "ipython",
    "version": 3
   },
   "file_extension": ".py",
   "mimetype": "text/x-python",
   "name": "python",
   "nbconvert_exporter": "python",
   "pygments_lexer": "ipython3",
   "version": "3.7.6"
  }
 },
 "nbformat": 4,
 "nbformat_minor": 4
}
